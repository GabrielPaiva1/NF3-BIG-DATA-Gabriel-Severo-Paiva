{
  "cells": [
    {
      "cell_type": "markdown",
      "metadata": {
        "id": "view-in-github",
        "colab_type": "text"
      },
      "source": [
        "<a href=\"https://colab.research.google.com/github/GabrielPaiva1/NF3-BIG-DATA-Gabriel-Severo-Paiva/blob/main/Ol%C3%A1%2C_este_%C3%A9_o_Colaboratory.ipynb\" target=\"_parent\"><img src=\"https://colab.research.google.com/assets/colab-badge.svg\" alt=\"Open In Colab\"/></a>"
      ]
    },
    {
      "cell_type": "code",
      "source": [
        "#Gabriel Severo Paiva\n",
        "#202203600397\n",
        "import pandas as pd\n",
        "dts = pd.read_csv('https://raw.githubusercontent.com/GabrielPaiva1/NF3-BIG-DATA-Gabriel-Severo-Paiva/main/world_alcohol.csv',encoding= 'latin-1', sep = ',')\n",
        "dts"
      ],
      "metadata": {
        "id": "K5htLQmniUx7"
      },
      "execution_count": null,
      "outputs": []
    },
    {
      "cell_type": "code",
      "source": [
        "#agrupar por tipos de bebida\n",
        "tipbebidas = dts.groupby('Beverage Types')\n",
        "\n",
        "\n",
        "for grupo, dados in tipbebidas:\n",
        "    print(\"Grupo:\", grupo)\n",
        "    display(dados)\n",
        "    print()"
      ],
      "metadata": {
        "id": "9SigfjP7ibhj"
      },
      "execution_count": null,
      "outputs": []
    },
    {
      "cell_type": "code",
      "source": [
        "#b. Agrupe os dados por Região e por Ano;\n",
        "reg_ano = dts.groupby(['Year','Country'])\n",
        "\n",
        "for grupo, dados in reg_ano:\n",
        "    print(\"Grupo:\", grupo)\n",
        "    display(dados)\n",
        "    print()"
      ],
      "metadata": {
        "id": "8qRD56F4ipLZ"
      },
      "execution_count": null,
      "outputs": []
    },
    {
      "cell_type": "code",
      "source": [
        "# Seção de Contagens: Contar a ocorrência de Regiões, de Países e a soma da coluna de valores\n",
        "#por Bebida.\n",
        "reg_somav = dts[['WHO region','Country','Display Value','Beverage Types']].groupby(['Beverage Types','WHO region','Country',]).sum()\n",
        "reg_somav"
      ],
      "metadata": {
        "id": "4Ur3MbGkirMJ"
      },
      "execution_count": null,
      "outputs": []
    },
    {
      "cell_type": "code",
      "source": [
        "#Realize análises estatísticas da coluna dos valores: Média, Moda, Mediana, Estatística\n",
        "#Descritiva e Gráfico de comparação dos valores agrupados por tipo de bebida.\n",
        "\n",
        "import matplotlib.pyplot as plt\n",
        "\n",
        "# Realizar análises estatísticas da coluna dos valores\n",
        "media = dts['Display Value'].mean()\n",
        "moda = dts['Display Value'].mode()\n",
        "mediana = dts['Display Value'].median()\n",
        "estatistica_descritiva = dts['Display Value'].describe()\n",
        "\n",
        "# análises estatísticas\n",
        "print('\\nMédia:\\n', media)\n",
        "print('\\nModa:\\n', moda)\n",
        "print('\\nMediana:\\n', mediana)\n",
        "print('\\nEstatística Descritiva:\\n', estatistica_descritiva)\n",
        "\n",
        "# Gráfico por tipo de bebida\n",
        "soma_bebida = dts.groupby('Beverage Types')['Display Value'].mean()\n",
        "soma_bebida.plot(kind='bar')\n",
        "plt.xlabel('Tipos de Bebidas')\n",
        "plt.ylabel('Valores da Bebida')\n",
        "plt.show()"
      ],
      "metadata": {
        "id": "Dgc6muj5itca"
      },
      "execution_count": null,
      "outputs": []
    },
    {
      "cell_type": "code",
      "source": [
        "#Mostre resultados de acordo com alguns critérios:\n",
        "#i. Mostrar a coluna de bebidas do ano de 1985.\n",
        "bbds1985 = dts.loc[dts['Year'] == 1985]\n",
        "bbds1985\n",
        ""
      ],
      "metadata": {
        "id": "9Xy2MT4Civuc"
      },
      "execution_count": null,
      "outputs": []
    },
    {
      "cell_type": "code",
      "source": [
        "# ii. Mostrar a coluna de Região com valores acima de 4.\n",
        "reg_acima_de_4 = dts.loc[dts['Display Value'] > 4, ['WHO region']]\n",
        "reg_acima_de_4"
      ],
      "metadata": {
        "id": "1SVytyoRixa8"
      },
      "execution_count": null,
      "outputs": []
    },
    {
      "cell_type": "code",
      "source": [
        "#2\n",
        "df = pd.read_csv('https://raw.githubusercontent.com/GabrielPaiva1/NF3-BIG-DATA-Gabriel-Severo-Paiva/main/cursos-prouni.csv',encoding = 'latin-1',sep = ',')\n",
        "df ['curso_busca'] = df['curso_busca'].str.replace('MatemÃ¡tica','Matemática')\n",
        "df ['grau'] = df['grau'].str.replace('TecnolÃ³gico','Tecnológico')\n",
        "df"
      ],
      "metadata": {
        "id": "4waZsVhUiz3U"
      },
      "execution_count": null,
      "outputs": []
    },
    {
      "cell_type": "code",
      "source": [
        "# Efetuar a limpeza das colunas de notas: onde tiver NaN (Not a Number), substituir por 0,0.\n",
        "colunas_notas = ['bolsa_integral_ampla', 'bolsa_parcial_cotas', 'bolsa_parcial_ampla','nota_integral_cotas','nota_parcial_ampla','nota_parcial_cotas']\n",
        "df[colunas_notas] = df[colunas_notas].fillna(0.0)\n",
        "df\n",
        ""
      ],
      "metadata": {
        "id": "pbwJnFpGi4G8"
      },
      "execution_count": null,
      "outputs": []
    },
    {
      "cell_type": "code",
      "source": [
        "#Agrupe os dados pelo grau (Bacharelado, Licenciatura, etc).\n",
        "dados_por_grupos = df.groupby('grau')\n",
        "\n",
        "for graus, dados in dados_por_grupos:\n",
        "    print(\"graus:\", graus)\n",
        "    display(dados)\n",
        "    print()"
      ],
      "metadata": {
        "id": "ALupyG6Ti8Ag"
      },
      "execution_count": null,
      "outputs": []
    },
    {
      "cell_type": "code",
      "source": [
        "#Agrupe os dados pelos cursos de Matemática, Medicina e Pedagogia.\n",
        "dados_por_curso = df.groupby('curso_busca')\n",
        "\n",
        "for cursos,dados in dados_por_curso:\n",
        "    print(\"cursos:\",cursos)\n",
        "    display(dados)\n",
        "    print()"
      ],
      "metadata": {
        "id": "znD4Wu6ei-Wj"
      },
      "execution_count": null,
      "outputs": []
    },
    {
      "cell_type": "markdown",
      "source": [],
      "metadata": {
        "id": "BFr6u11oi-Ip"
      }
    },
    {
      "cell_type": "code",
      "source": [
        "#. Agrupe os dados por Estado e obtenha a média de notas de ordem por Estado.\n",
        "coluna_dados = df[['grau','turno','mensalidade','bolsa_integral_cotas','bolsa_integral_ampla','bolsa_parcial_cotas','bolsa_parcial_ampla','curso_id','curso_busca','cidade_busca','uf_busca','universidade_nome','campus_nome','campus_id','nome','nota_integral_ampla','nota_integral_cotas','nota_parcial_ampla','nota_parcial_cotas']]\n",
        "coluna_dados.groupby('uf_busca').mean()"
      ],
      "metadata": {
        "id": "y62XaEkUjB5y"
      },
      "execution_count": null,
      "outputs": []
    },
    {
      "cell_type": "code",
      "source": [
        "#Agrupe os dados pelos cursos Tecnológicos.\n",
        "cursos_tecnologia = df.loc[df['grau'] == 'Tecnológico']\n",
        "cursos_tecnologia"
      ],
      "metadata": {
        "id": "ZoLQ9oPCjE9O"
      },
      "execution_count": null,
      "outputs": []
    },
    {
      "cell_type": "code",
      "source": [
        "#Elimine a coluna “cidade_filtro” do dataframe.\n",
        "df = df.drop('cidade_filtro', axis=1)\n",
        "df"
      ],
      "metadata": {
        "id": "G-FGoBsBjNo7"
      },
      "execution_count": null,
      "outputs": []
    },
    {
      "cell_type": "code",
      "source": [
        "#Apresente a média das mensalidades dos cursos de Medicina.\n",
        "cursos_medicina = df[df['nome'] == 'Medicina']\n",
        "cursos_medicina['mensalidade'].mean"
      ],
      "metadata": {
        "id": "3nqcbPuwk_WF"
      },
      "execution_count": null,
      "outputs": []
    },
    {
      "cell_type": "code",
      "source": [
        "#Média das notas de corte dos cursos de tempo integral.\n",
        "turno = df.groupby('turno')\n",
        "\n",
        "media_tempo_integral = turno.get_group('Integral')['nota_integral_ampla'].mean()\n",
        "media_tempo_integral"
      ],
      "metadata": {
        "id": "KNb4Rr3_lBs6"
      },
      "execution_count": null,
      "outputs": []
    },
    {
      "cell_type": "code",
      "source": [
        "#Estatística Descritiva das Notas Integral Ampla dos cursos de Bacharelado.\n",
        "turno = df.groupby('turno')\n",
        "\n",
        "media_curso_tempo_integral = turno.get_group('Integral')['nota_integral_ampla'].mean()\n",
        "media_curso_tempo_integral"
      ],
      "metadata": {
        "id": "PZx3769zlDA9",
        "outputId": "fdcf9435-0c1e-46a7-fecf-af8812f25238",
        "colab": {
          "base_uri": "https://localhost:8080/"
        }
      },
      "execution_count": 24,
      "outputs": [
        {
          "output_type": "execute_result",
          "data": {
            "text/plain": [
              "663.1000342465754"
            ]
          },
          "metadata": {},
          "execution_count": 24
        }
      ]
    },
    {
      "cell_type": "code",
      "source": [
        "#Gráfico comparativo entre o grau dos cursos (Bacharelado, Licenciatura, Tecnologia, etc)\n",
        "#pelas Notas Integral de Cotas.import matplotlib.pyplot as plot\n",
        "import matplotlib.pyplot as plt\n",
        "curso_integral = df.groupby('grau')['nota_integral_cotas'].mean()\n",
        "curso_integral.plot.bar(x='grau', y='nota_integral_cotas')\n",
        "plt.xlabel('Cursos')\n",
        "plt.ylabel('Notas')\n",
        "plt.show()"
      ],
      "metadata": {
        "id": "zefHHbRDlEtU"
      },
      "execution_count": null,
      "outputs": []
    }
  ],
  "metadata": {
    "colab": {
      "name": "Olá, este é o Colaboratory",
      "provenance": [],
      "include_colab_link": true
    },
    "kernelspec": {
      "display_name": "Python 3",
      "name": "python3"
    }
  },
  "nbformat": 4,
  "nbformat_minor": 0
}